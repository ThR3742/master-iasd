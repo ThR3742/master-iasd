{
 "cells": [
  {
   "cell_type": "code",
   "execution_count": null,
   "metadata": {
    "colab": {},
    "colab_type": "code",
    "id": "Beq_KrufOKyb"
   },
   "outputs": [],
   "source": [
    "from IPython.display import clear_output\n",
    "from random import shuffle\n",
    "import time"
   ]
  },
  {
   "cell_type": "code",
   "execution_count": null,
   "metadata": {
    "colab": {
     "base_uri": "https://localhost:8080/",
     "height": 34
    },
    "colab_type": "code",
    "id": "Dh4obaPqpmWk",
    "outputId": "6f425652-7562-4ccb-af2d-5f09d2d7a19a"
   },
   "outputs": [],
   "source": [
    "%tensorflow_version 2.x"
   ]
  },
  {
   "cell_type": "code",
   "execution_count": null,
   "metadata": {
    "colab": {},
    "colab_type": "code",
    "id": "OnVV6uKMON2O"
   },
   "outputs": [],
   "source": [
    "import tensorflow as tf"
   ]
  },
  {
   "cell_type": "code",
   "execution_count": null,
   "metadata": {
    "colab": {
     "base_uri": "https://localhost:8080/",
     "height": 34
    },
    "colab_type": "code",
    "id": "WlALLaZZOPak",
    "outputId": "bbb9f35a-21ea-48c6-8579-b0dc7e727147"
   },
   "outputs": [],
   "source": [
    "print(tf.__version__)"
   ]
  },
  {
   "cell_type": "code",
   "execution_count": null,
   "metadata": {
    "colab": {},
    "colab_type": "code",
    "id": "xNB1eBJQORLO"
   },
   "outputs": [],
   "source": [
    "import numpy as np\n",
    "import os\n",
    "import matplotlib.pyplot as plt\n",
    "from scipy.stats import norm\n",
    "\n",
    "from tensorflow.keras.layers import Input, Dense, Lambda, Flatten, Reshape, Conv2D, Conv2DTranspose\n",
    "from tensorflow.keras.models import Model\n",
    "from tensorflow.keras import metrics\n",
    "from tensorflow.keras.datasets import fashion_mnist"
   ]
  },
  {
   "cell_type": "code",
   "execution_count": null,
   "metadata": {
    "colab": {
     "base_uri": "https://localhost:8080/",
     "height": 34
    },
    "colab_type": "code",
    "id": "sB1AqDE2PTGA",
    "outputId": "3e3304cc-a8f6-48fc-e7e2-b893265a1cf1"
   },
   "outputs": [],
   "source": [
    "if 'COLAB_TPU_ADDR' not in os.environ:\n",
    "  print('ERROR: Not connected to a TPU runtime; please see the first cell in this notebook for instructions!')\n",
    "else:\n",
    "  tpu_address = 'grpc://' + os.environ['COLAB_TPU_ADDR']\n",
    "  print ('TPU address is', tpu_address)"
   ]
  },
  {
   "cell_type": "code",
   "execution_count": null,
   "metadata": {
    "colab": {
     "base_uri": "https://localhost:8080/",
     "height": 153
    },
    "colab_type": "code",
    "id": "5al-XDELOVM8",
    "outputId": "34b5e787-e4f2-4b85-d03b-0f01e57a6fee"
   },
   "outputs": [],
   "source": [
    "(x_train, y_train), (x_test, y_test) = fashion_mnist.load_data()"
   ]
  },
  {
   "cell_type": "code",
   "execution_count": null,
   "metadata": {
    "colab": {
     "base_uri": "https://localhost:8080/",
     "height": 465
    },
    "colab_type": "code",
    "id": "T37iKqo2OYku",
    "outputId": "c2fc5682-5768-4f0f-db9c-6da9fe901961"
   },
   "outputs": [],
   "source": [
    "plt.figure(figsize=(16, 8))\n",
    "for i in range(0, 18):\n",
    "    plt.subplot(3, 6, i + 1)\n",
    "    plt.imshow(x_train[i], cmap=\"gray\")\n",
    "    plt.axis(\"off\")\n",
    "plt.show()"
   ]
  },
  {
   "cell_type": "code",
   "execution_count": null,
   "metadata": {
    "colab": {},
    "colab_type": "code",
    "id": "30DbdpLMOaad"
   },
   "outputs": [],
   "source": [
    "x_train = x_train.astype('float32') / 255.\n",
    "x_test = x_test.astype('float32') / 255."
   ]
  },
  {
   "cell_type": "code",
   "execution_count": null,
   "metadata": {
    "colab": {
     "base_uri": "https://localhost:8080/",
     "height": 34
    },
    "colab_type": "code",
    "id": "aXj0GY2dOdQa",
    "outputId": "39c0a4b5-b65e-4dd7-ed67-6ddc3d96ebc0"
   },
   "outputs": [],
   "source": [
    "x_train_standard = x_train.reshape((len(x_train), np.prod(x_train.shape[1:])))\n",
    "x_test_standard = x_test.reshape((len(x_test), np.prod(x_test.shape[1:])))\n",
    "x_train_standard.shape, x_test_standard.shape"
   ]
  },
  {
   "cell_type": "code",
   "execution_count": null,
   "metadata": {
    "colab": {},
    "colab_type": "code",
    "id": "4ASsbcIfOe-5"
   },
   "outputs": [],
   "source": [
    "original_dim = 784\n",
    "seed_dim = 8\n",
    "intermediate_dim = 256\n",
    "batch_size = 8"
   ]
  },
  {
   "cell_type": "code",
   "execution_count": null,
   "metadata": {
    "colab": {},
    "colab_type": "code",
    "id": "lzGO6oVwVRNZ"
   },
   "outputs": [],
   "source": [
    "def adam_optimizer():\n",
    "    return tf.keras.optimizers.Adam(lr=0.0002, beta_1=0.5)"
   ]
  },
  {
   "cell_type": "code",
   "execution_count": null,
   "metadata": {
    "colab": {},
    "colab_type": "code",
    "id": "9paUGtuUUU1f"
   },
   "outputs": [],
   "source": [
    "def create_generator() -> tf.keras.Model:\n",
    "    generator_input = tf.keras.layers.Input(shape=(seed_dim,))\n",
    "    x = tf.keras.layers.Dense(intermediate_dim, activation='relu')(generator_input)\n",
    "    x = tf.keras.layers.Conv2DTranspose(1, 4, strides=2)(tf.reshape(x, shape=(-1, 16, 16, 1)))\n",
    "    x = tf.nn.sigmoid(x)\n",
    "    x = tf.keras.layers.Conv2D(1, 7, strides=1)(x)\n",
    "    x = tf.nn.sigmoid(tf.reshape(x, shape=(-1, original_dim)))\n",
    "    model = Model(\n",
    "        inputs=generator_input,\n",
    "        outputs=x,\n",
    "        name=\"generator\"\n",
    "        )\n",
    "    model.compile(loss='binary_crossentropy', optimizer=adam_optimizer())\n",
    "    return model\n",
    "\n",
    "def create_generator():\n",
    "    generator=tf.keras.models.Sequential()\n",
    "    generator.add(tf.keras.layers.Dense(units=256,input_dim=seed_dim))\n",
    "    generator.add(tf.keras.layers.LeakyReLU(0.2))\n",
    "\n",
    "    generator.add(tf.keras.layers.Dense(units=512))\n",
    "    generator.add(tf.keras.layers.LeakyReLU(0.2))\n",
    "\n",
    "    generator.add(tf.keras.layers.Dense(units=1024))\n",
    "    generator.add(tf.keras.layers.LeakyReLU(0.2))\n",
    "\n",
    "    generator.add(tf.keras.layers.Dense(units=original_dim, activation='tanh'))\n",
    "\n",
    "    generator.compile(loss='binary_crossentropy', optimizer=adam_optimizer())\n",
    "    return generator"
   ]
  },
  {
   "cell_type": "code",
   "execution_count": null,
   "metadata": {
    "colab": {
     "base_uri": "https://localhost:8080/",
     "height": 408
    },
    "colab_type": "code",
    "id": "KD-tKE4pVCnc",
    "outputId": "6d0082f9-878b-4641-b7a2-864b9618aeb5"
   },
   "outputs": [],
   "source": [
    "generator = create_generator()\n",
    "print(generator.summary())"
   ]
  },
  {
   "cell_type": "code",
   "execution_count": null,
   "metadata": {
    "colab": {},
    "colab_type": "code",
    "id": "eB9YSPQ6Vavn"
   },
   "outputs": [],
   "source": [
    "def create_discriminator() -> tf.keras.Model:\n",
    "    discriminator_input = tf.keras.layers.Input(shape=(original_dim,))\n",
    "    hidden = tf.keras.layers.Dense(intermediate_dim, activation='relu')(discriminator_input)\n",
    "    hidden = tf.keras.layers.Dense(10, activation='relu')(hidden)\n",
    "    discriminator_output = tf.keras.layers.Dense(1)(hidden)\n",
    "    model = Model(inputs=discriminator_input, \n",
    "                 outputs=discriminator_output,\n",
    "                 name=\"discriminator\")\n",
    "    model.compile(loss='binary_crossentropy', optimizer=adam_optimizer(), metrics=['accuracy'])\n",
    "    return model\n",
    "\n",
    "\n",
    "def create_discriminator():\n",
    "    discriminator=tf.keras.models.Sequential()\n",
    "    discriminator.add(tf.keras.layers.Dense(units=1024,input_dim=original_dim))\n",
    "    discriminator.add(tf.keras.layers.LeakyReLU(0.2))\n",
    "    discriminator.add(tf.keras.layers.Dropout(0.3))\n",
    "       \n",
    "    \n",
    "    discriminator.add(tf.keras.layers.Dense(units=512))\n",
    "    discriminator.add(tf.keras.layers.LeakyReLU(0.2))\n",
    "    discriminator.add(tf.keras.layers.Dropout(0.3))\n",
    "       \n",
    "    discriminator.add(tf.keras.layers.Dense(units=256))\n",
    "    discriminator.add(tf.keras.layers.LeakyReLU(0.2))\n",
    "    \n",
    "    discriminator.add(tf.keras.layers.Dense(units=1, activation='sigmoid'))\n",
    "    \n",
    "    discriminator.compile(loss='binary_crossentropy', optimizer=adam_optimizer())\n",
    "    return discriminator"
   ]
  },
  {
   "cell_type": "code",
   "execution_count": null,
   "metadata": {
    "colab": {
     "base_uri": "https://localhost:8080/",
     "height": 476
    },
    "colab_type": "code",
    "id": "xZrIDyZcVatH",
    "outputId": "9cd9371f-54b9-4dd0-f2d1-9097f953ad00"
   },
   "outputs": [],
   "source": [
    "discriminator = create_discriminator()\n",
    "print(discriminator.summary())"
   ]
  },
  {
   "cell_type": "code",
   "execution_count": null,
   "metadata": {
    "colab": {
     "base_uri": "https://localhost:8080/",
     "height": 255
    },
    "colab_type": "code",
    "id": "Y9uniG1MmVru",
    "outputId": "629bfef7-015f-454e-d873-a0cd768119b3"
   },
   "outputs": [],
   "source": [
    "def create_gan(discriminator, generator):\n",
    "    discriminator.trainable=False\n",
    "    gan_input = Input(shape=(seed_dim,))\n",
    "    x = generator(gan_input)\n",
    "    gan_output= discriminator(x)\n",
    "    gan= Model(inputs=gan_input, outputs=gan_output)\n",
    "    gan.compile(loss='binary_crossentropy', optimizer='adam')\n",
    "    return gan\n",
    "gan = create_gan(discriminator, generator)\n",
    "gan.summary()"
   ]
  },
  {
   "cell_type": "code",
   "execution_count": null,
   "metadata": {
    "colab": {},
    "colab_type": "code",
    "id": "4yYuh9kWm2_8"
   },
   "outputs": [],
   "source": [
    "def generate_and_plot(generator, inputs=None):\n",
    "    \n",
    "    if inputs is None:\n",
    "        real_images = x_train[:8].reshape(-1, original_dim)\n",
    "    else:\n",
    "        real_images = inputs\n",
    "\n",
    "    seed = tf.random.normal(shape=(batch_size, seed_dim),\n",
    "                            mean=0., stddev=1.)\n",
    "\n",
    "    data = generator(seed).numpy()\n",
    "\n",
    "    data = np.concatenate(\n",
    "        (data, real_images), axis=0)\n",
    "\n",
    "    # print(self(real_images))\n",
    "\n",
    "    plt.figure(figsize=(20, 8))\n",
    "    for i in range(0, 16):\n",
    "        plt.subplot(4, 8, i + 1)\n",
    "        plt.imshow(data[i, :].reshape(28, 28), cmap=\"gray\")\n",
    "        plt.axis(\"off\")\n",
    "    plt.show()\n"
   ]
  },
  {
   "cell_type": "code",
   "execution_count": null,
   "metadata": {
    "colab": {
     "base_uri": "https://localhost:8080/",
     "height": 239
    },
    "colab_type": "code",
    "id": "e5eWDrNonClc",
    "outputId": "06eb597c-c58b-4b49-caa4-9b91b12e4355"
   },
   "outputs": [],
   "source": [
    "generate_and_plot(generator)"
   ]
  },
  {
   "cell_type": "code",
   "execution_count": null,
   "metadata": {
    "colab": {
     "base_uri": "https://localhost:8080/",
     "height": 290
    },
    "colab_type": "code",
    "id": "F-0TSEmonn4F",
    "outputId": "caf948fc-2a06-4af3-ab2b-b41c21218d88"
   },
   "outputs": [],
   "source": [
    "def training(iter=2, batch_size=128):\n",
    "\n",
    "    # Creating GAN\n",
    "    generator= create_generator()\n",
    "    discriminator= create_discriminator()\n",
    "    gan = create_gan(discriminator, generator)\n",
    "    \n",
    "    print(gan.summary())\n",
    "    start_time = time.time()\n",
    "\n",
    "    for my_iter in range(iter):\n",
    "\n",
    "        #Loading the data\n",
    "        real_iter = my_iter % (len(x_train)//batch_size)\n",
    "      \n",
    "        real_data = x_train[real_iter*batch_size:(real_iter+1)*batch_size].reshape(-1, original_dim)\n",
    "\n",
    "        noise = np.random.normal(0, 1, [batch_size, seed_dim])\n",
    "        generated_images = generator.predict(noise)\n",
    "\n",
    "        #Construct different batches of  real and fake data \n",
    "        X= np.concatenate([real_data, generated_images])\n",
    "\n",
    "        # Labels for generated and real data\n",
    "        y_dis=np.zeros(2*batch_size)\n",
    "        y_dis[:batch_size]=0.9\n",
    "\n",
    "        #Pre train discriminator on  fake and real data  before starting the gan. \n",
    "        discriminator.trainable=True\n",
    "        discriminator.train_on_batch(X, y_dis)\n",
    "\n",
    "        noise= np.random.normal(0,1, [batch_size, seed_dim])\n",
    "        y_gen = np.ones(batch_size)\n",
    "\n",
    "        # During the training of gan, \n",
    "        # the weights of discriminator should be fixed. \n",
    "        #We can enforce that by setting the trainable flag\n",
    "        discriminator.trainable=False\n",
    "\n",
    "        #training  the GAN by alternating the training of the Discriminator \n",
    "        #and training the chained GAN model with Discriminator’s weights freezed.\n",
    "        gan.train_on_batch(noise, y_gen)\n",
    "\n",
    "        if my_iter % 100 == 0:\n",
    "        clear_output()\n",
    "        print(f\"Iter {my_iter} ({real_iter})\")\n",
    "        if start_time is not None:\n",
    "            time_spent = time.time() - start_time\n",
    "            print(f\"(Avg {time_spent/100} seconds per iteration)\")\n",
    "        start_time = time.time()\n",
    "        print(discriminator.evaluate(X, y_dis, verbose=0))\n",
    "        generate_and_plot(generator, real_data)\n",
    "    \n",
    "training(10000, 64)"
   ]
  },
  {
   "cell_type": "code",
   "execution_count": null,
   "metadata": {
    "colab": {},
    "colab_type": "code",
    "id": "YqRsqEMuo15s"
   },
   "outputs": [],
   "source": []
  }
 ],
 "metadata": {
  "accelerator": "GPU",
  "colab": {
   "collapsed_sections": [],
   "name": "Module5_TP_GANs.ipynb",
   "provenance": []
  },
  "kernelspec": {
   "display_name": "Python 3",
   "language": "python",
   "name": "python3"
  },
  "language_info": {
   "codemirror_mode": {
    "name": "ipython",
    "version": 3
   },
   "file_extension": ".py",
   "mimetype": "text/x-python",
   "name": "python",
   "nbconvert_exporter": "python",
   "pygments_lexer": "ipython3",
   "version": "3.6.8"
  }
 },
 "nbformat": 4,
 "nbformat_minor": 1
}
